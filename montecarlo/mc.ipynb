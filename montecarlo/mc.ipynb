{
 "cells": [
  {
   "cell_type": "code",
   "execution_count": 6,
   "metadata": {},
   "outputs": [],
   "source": [
    "import json\n",
    "import pathlib"
   ]
  },
  {
   "cell_type": "code",
   "execution_count": 7,
   "metadata": {},
   "outputs": [
    {
     "data": {
      "text/plain": [
       "WindowsPath('c:/Users/Legion/workspace/plotly_lgad_dosimetry/montecarlo')"
      ]
     },
     "execution_count": 7,
     "metadata": {},
     "output_type": "execute_result"
    }
   ],
   "source": [
    "path_to_this_notebook = pathlib.Path.cwd()\n",
    "path_to_this_notebook"
   ]
  },
  {
   "cell_type": "code",
   "execution_count": 8,
   "metadata": {},
   "outputs": [
    {
     "data": {
      "text/plain": [
       "WindowsPath('c:/Users/Legion/workspace/plotly_lgad_dosimetry/montecarlo/aic144bp.json')"
      ]
     },
     "execution_count": 8,
     "metadata": {},
     "output_type": "execute_result"
    }
   ],
   "source": [
    "bp_mc_data_file_sh12a = path_to_this_notebook / 'aic144bp.json'\n",
    "bp_mc_data_file_sh12a"
   ]
  },
  {
   "cell_type": "code",
   "execution_count": 25,
   "metadata": {},
   "outputs": [
    {
     "name": "stdout",
     "output_type": "stream",
     "text": [
      "z_profile\n",
      "yz_profile\n",
      "entrance\n",
      "slab_at_27mm\n",
      "xy_profile_entry\n",
      "slab_at_28mm\n",
      "slab_at_15mm\n"
     ]
    }
   ],
   "source": [
    "with open(bp_mc_data_file_sh12a) as f:\n",
    "    bp_mc_data_sh12a = json.load(f)\n",
    "    results = bp_mc_data_sh12a[\"result\"]\n",
    "    estimators = results[\"estimators\"]\n",
    "    for estimator in estimators:\n",
    "        print(estimator['name'])\n",
    "        z_profile = [e for e in estimator['z_profile'] if e.name == 'z_profile']\n",
    "    #first_estimator = estimators[0]\n",
    "    #print(dict(first_estimator))\n",
    "    #print(bp_mc_data_sh12a[\"result\"][\"estimators\"])"
   ]
  },
  {
   "cell_type": "code",
   "execution_count": 23,
   "metadata": {},
   "outputs": [
    {
     "data": {
      "text/plain": [
       "dict_keys(['metadata', 'name', 'pages', 'scoringOutputJsonRef'])"
      ]
     },
     "execution_count": 23,
     "metadata": {},
     "output_type": "execute_result"
    }
   ],
   "source": [
    "first_estimator.keys()"
   ]
  },
  {
   "cell_type": "code",
   "execution_count": null,
   "metadata": {},
   "outputs": [],
   "source": []
  }
 ],
 "metadata": {
  "kernelspec": {
   "display_name": "venv",
   "language": "python",
   "name": "python3"
  },
  "language_info": {
   "codemirror_mode": {
    "name": "ipython",
    "version": 3
   },
   "file_extension": ".py",
   "mimetype": "text/x-python",
   "name": "python",
   "nbconvert_exporter": "python",
   "pygments_lexer": "ipython3",
   "version": "3.9.8"
  },
  "orig_nbformat": 4
 },
 "nbformat": 4,
 "nbformat_minor": 2
}
